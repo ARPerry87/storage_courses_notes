{
 "cells": [
  {
   "cell_type": "code",
   "execution_count": null,
   "metadata": {},
   "outputs": [],
   "source": [
    "#List Some Features of Dictionaries in Python\n",
    "#Define the Basice Features of Sets in Python \n",
    "#List some similarties and differences between lists, dictionaries and sets in python \n"
   ]
  },
  {
   "cell_type": "code",
   "execution_count": null,
   "metadata": {},
   "outputs": [],
   "source": [
    "#Dictionaries have key value pairs \n",
    "#The dictionary isn't in any particular order and the order isn't necessary \n",
    "#It cannot have more than two pairs when trying to convert\n",
    "#Curly brackets\n",
    "#Can look up using the key \n",
    "#Values can be duplicates but not the key\n",
    "#Values can be simple or complex data types\n",
    "#Dictionaries are mutable \n",
    "#Values can be complex data types "
   ]
  },
  {
   "cell_type": "code",
   "execution_count": null,
   "metadata": {},
   "outputs": [],
   "source": [
    "#Sets can't have duplicates \n",
    "#When converting to a set it will remove all duplicates from the \n",
    "#Sets are unordered\n",
    "#() brackets\n",
    "#Cannot contain mutable elements i.e. lists or dictionaries within sets \n",
    "#can have union, intersections, differences, etc. \n",
    "#cannot contain complex data types "
   ]
  },
  {
   "cell_type": "code",
   "execution_count": null,
   "metadata": {},
   "outputs": [],
   "source": [
    "#Lists are immutable \n",
    "#Lists are square brackets \n",
    "#Lists the order matters \n",
    "#Lists can contain nested complex data types"
   ]
  }
 ],
 "metadata": {
  "kernelspec": {
   "display_name": "Python 3",
   "language": "python",
   "name": "python3"
  },
  "language_info": {
   "codemirror_mode": {
    "name": "ipython",
    "version": 3
   },
   "file_extension": ".py",
   "mimetype": "text/x-python",
   "name": "python",
   "nbconvert_exporter": "python",
   "pygments_lexer": "ipython3",
   "version": "3.8.3"
  }
 },
 "nbformat": 4,
 "nbformat_minor": 4
}
