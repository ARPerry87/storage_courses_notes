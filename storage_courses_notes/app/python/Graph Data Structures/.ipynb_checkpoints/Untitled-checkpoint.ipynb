{
 "cells": [
  {
   "cell_type": "code",
   "execution_count": 3,
   "metadata": {},
   "outputs": [],
   "source": [
    "import numpy as np \n",
    "import networkx as nx \n",
    "import matplotlib.pyplot as plt \n",
    "\n",
    "from queue import Queue "
   ]
  },
  {
   "cell_type": "code",
   "execution_count": null,
   "metadata": {},
   "outputs": [],
   "source": [
    "class Graph: \n",
    "    def _init_(self, num_nodes, directed_edges=False):\n",
    "        \n",
    "        self.num_nodes = num_nodes\n",
    "        self.directed_edges = directed_edges\n",
    "        \n",
    "        self.edge_list = []\n",
    "        \n",
    "        self.edge_weights = {}\n",
    "        \n",
    "        self.adjacency_set = {}\n",
    "        \n",
    "        for i in range(num_nodes): \n",
    "            self.adjacency_set[i] = set()\n",
    "            \n",
    "    def insert_new_edge(self, start_node, end_node, weight=1):\n",
    "        if start_node <0 or start_node > self.num_nodes or \\ \n",
    "            end_node < 0  or end_node > self.num_nodes: \n",
    "                raise ValueError(\"You have specificed invalid nodes for this edge\")\n",
    "                \n",
    "        self.adjacency_set[start_node].add(end_node)\n",
    "            \n",
    "        if self.directed_edges == False:\n",
    "            self.adjacency_set[end_node].add(start_node)\n",
    "            \n",
    "        edges = []\n",
    "        \n",
    "        edges.append((start_node, end_node))\n",
    "        \n",
    "        if (self.directed_edges ==False):\n",
    "            edges.append((end_node, start_node))\n",
    "                \n",
    "            \n",
    "            \n",
    "            \n",
    "            \n",
    "            \n",
    "            "
   ]
  },
  {
   "cell_type": "code",
   "execution_count": null,
   "metadata": {},
   "outputs": [],
   "source": []
  },
  {
   "cell_type": "code",
   "execution_count": null,
   "metadata": {},
   "outputs": [],
   "source": []
  },
  {
   "cell_type": "code",
   "execution_count": null,
   "metadata": {},
   "outputs": [],
   "source": []
  },
  {
   "cell_type": "code",
   "execution_count": null,
   "metadata": {},
   "outputs": [],
   "source": []
  },
  {
   "cell_type": "code",
   "execution_count": null,
   "metadata": {},
   "outputs": [],
   "source": []
  },
  {
   "cell_type": "code",
   "execution_count": null,
   "metadata": {},
   "outputs": [],
   "source": []
  }
 ],
 "metadata": {
  "kernelspec": {
   "display_name": "Python 3",
   "language": "python",
   "name": "python3"
  },
  "language_info": {
   "codemirror_mode": {
    "name": "ipython",
    "version": 3
   },
   "file_extension": ".py",
   "mimetype": "text/x-python",
   "name": "python",
   "nbconvert_exporter": "python",
   "pygments_lexer": "ipython3",
   "version": "3.8.3"
  }
 },
 "nbformat": 4,
 "nbformat_minor": 4
}
