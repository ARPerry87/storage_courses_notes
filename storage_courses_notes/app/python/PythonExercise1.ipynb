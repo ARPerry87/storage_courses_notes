{
 "cells": [
  {
   "cell_type": "code",
   "execution_count": null,
   "metadata": {},
   "outputs": [],
   "source": [
    "#the featuers and benefits of the jupyter notebook are that you can add lines, execute within the notebook\n",
    "#run code within the notebook, and decode, as well as update to Python 3. \n",
    "#This allows a new learner (and someone who has code experience) visual ease\n",
    "#Interactive environment and browser based, makes debugging easy and easy to install"
   ]
  },
  {
   "cell_type": "code",
   "execution_count": null,
   "metadata": {},
   "outputs": [],
   "source": [
    "#len() will get you the amount of characters used in a string\n",
    "#min will tell you the smallest value in an array\n",
    "#max will tell you the largest\n",
    "#type will tell you the data type of a given value\n",
    "#print() takes in any date type and prints it to the screen and prints it as a string \n",
    "#round() takes a numeric value and rounds it to the next highest integer "
   ]
  },
  {
   "cell_type": "code",
   "execution_count": 1,
   "metadata": {},
   "outputs": [
    {
     "data": {
      "text/plain": [
       "32"
      ]
     },
     "execution_count": 1,
     "metadata": {},
     "output_type": "execute_result"
    }
   ],
   "source": [
    "#variables are stored data that can be referenced later at a programmers convenience, and can be of any data type\n",
    "#Changing the value in a variable will change all locations where the variable is referenced\n",
    "s1 = 32\n",
    "s1"
   ]
  },
  {
   "cell_type": "code",
   "execution_count": 2,
   "metadata": {},
   "outputs": [],
   "source": [
    "#there are serveral different quote types to strings in python, the '', \"\", and triple quotes. Each have specific rules around them. \n",
    "#Double quotes are used if you need to use single quotes inside a string. \n",
    "#Single quotes are used if you need to use double quotes inside a string. \n",
    "#Triple quotes are used if you need to start multi line strings. "
   ]
  },
  {
   "cell_type": "code",
   "execution_count": null,
   "metadata": {},
   "outputs": [],
   "source": []
  }
 ],
 "metadata": {
  "kernelspec": {
   "display_name": "Python 3",
   "language": "python",
   "name": "python3"
  },
  "language_info": {
   "codemirror_mode": {
    "name": "ipython",
    "version": 3
   },
   "file_extension": ".py",
   "mimetype": "text/x-python",
   "name": "python",
   "nbconvert_exporter": "python",
   "pygments_lexer": "ipython3",
   "version": "3.8.3"
  }
 },
 "nbformat": 4,
 "nbformat_minor": 4
}
