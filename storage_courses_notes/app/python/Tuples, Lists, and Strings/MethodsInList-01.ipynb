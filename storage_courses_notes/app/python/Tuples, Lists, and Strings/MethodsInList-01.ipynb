{
 "cells": [
  {
   "cell_type": "code",
   "execution_count": 1,
   "metadata": {},
   "outputs": [
    {
     "data": {
      "text/plain": [
       "['Honda Accord', 'Toyota Camry', 'Honda Civic', 'Toyota Corolla']"
      ]
     },
     "execution_count": 1,
     "metadata": {},
     "output_type": "execute_result"
    }
   ],
   "source": [
    "cars_list = [\"Honda Accord\", \"Toyota Camry\",\n",
    "            \"Honda Civic\", \"Toyota Corolla\"]\n",
    "cars_list"
   ]
  },
  {
   "cell_type": "code",
   "execution_count": 2,
   "metadata": {},
   "outputs": [
    {
     "ename": "IndexError",
     "evalue": "list assignment index out of range",
     "output_type": "error",
     "traceback": [
      "\u001b[1;31m---------------------------------------------------------------------------\u001b[0m",
      "\u001b[1;31mIndexError\u001b[0m                                Traceback (most recent call last)",
      "\u001b[1;32m<ipython-input-2-41a1f03942af>\u001b[0m in \u001b[0;36m<module>\u001b[1;34m\u001b[0m\n\u001b[1;32m----> 1\u001b[1;33m \u001b[0mcars_list\u001b[0m\u001b[1;33m[\u001b[0m\u001b[1;36m4\u001b[0m\u001b[1;33m]\u001b[0m \u001b[1;33m=\u001b[0m \u001b[1;34m\"Hyunda Elantra\"\u001b[0m\u001b[1;33m\u001b[0m\u001b[1;33m\u001b[0m\u001b[0m\n\u001b[0m\u001b[0;32m      2\u001b[0m \u001b[0mcars_list\u001b[0m\u001b[1;33m\u001b[0m\u001b[1;33m\u001b[0m\u001b[0m\n",
      "\u001b[1;31mIndexError\u001b[0m: list assignment index out of range"
     ]
    }
   ],
   "source": [
    "cars_list[4] = \"Hyunda Elantra\"\n",
    "cars_list"
   ]
  },
  {
   "cell_type": "code",
   "execution_count": 4,
   "metadata": {},
   "outputs": [
    {
     "data": {
      "text/plain": [
       "['Honda Accord',\n",
       " 'Toyota Camry',\n",
       " 'Honda Civic',\n",
       " 'Toyota Corolla',\n",
       " 'Hyunday Elantra']"
      ]
     },
     "execution_count": 4,
     "metadata": {},
     "output_type": "execute_result"
    }
   ],
   "source": [
    "cars_list.append('Hyunday Elantra')\n",
    "cars_list"
   ]
  },
  {
   "cell_type": "code",
   "execution_count": 7,
   "metadata": {},
   "outputs": [
    {
     "ename": "TypeError",
     "evalue": "append() takes exactly one argument (2 given)",
     "output_type": "error",
     "traceback": [
      "\u001b[1;31m---------------------------------------------------------------------------\u001b[0m",
      "\u001b[1;31mTypeError\u001b[0m                                 Traceback (most recent call last)",
      "\u001b[1;32m<ipython-input-7-26edd72f2299>\u001b[0m in \u001b[0;36m<module>\u001b[1;34m\u001b[0m\n\u001b[1;32m----> 1\u001b[1;33m \u001b[0mcars_list\u001b[0m\u001b[1;33m.\u001b[0m\u001b[0mappend\u001b[0m\u001b[1;33m(\u001b[0m\u001b[1;34m'Nissan Sentra'\u001b[0m\u001b[1;33m,\u001b[0m \u001b[1;34m'Ford Fusion'\u001b[0m\u001b[1;33m)\u001b[0m\u001b[1;33m\u001b[0m\u001b[1;33m\u001b[0m\u001b[0m\n\u001b[0m",
      "\u001b[1;31mTypeError\u001b[0m: append() takes exactly one argument (2 given)"
     ]
    }
   ],
   "source": [
    "cars_list.append('Nissan Sentra', 'Ford Fusion')"
   ]
  },
  {
   "cell_type": "code",
   "execution_count": 8,
   "metadata": {},
   "outputs": [
    {
     "data": {
      "text/plain": [
       "5"
      ]
     },
     "execution_count": 8,
     "metadata": {},
     "output_type": "execute_result"
    }
   ],
   "source": [
    "len(cars_list)"
   ]
  },
  {
   "cell_type": "code",
   "execution_count": 9,
   "metadata": {},
   "outputs": [
    {
     "data": {
      "text/plain": [
       "['Honda Accord',\n",
       " 'Toyota Camry',\n",
       " 'Honda Civic',\n",
       " 'Toyota Corolla',\n",
       " 'Hyunday Elantra',\n",
       " 'Nissan Sentra']"
      ]
     },
     "execution_count": 9,
     "metadata": {},
     "output_type": "execute_result"
    }
   ],
   "source": [
    "cars_list.insert(6,'Nissan Sentra')\n",
    "cars_list"
   ]
  },
  {
   "cell_type": "code",
   "execution_count": 10,
   "metadata": {},
   "outputs": [
    {
     "data": {
      "text/plain": [
       "6"
      ]
     },
     "execution_count": 10,
     "metadata": {},
     "output_type": "execute_result"
    }
   ],
   "source": [
    "len(cars_list)"
   ]
  },
  {
   "cell_type": "code",
   "execution_count": 11,
   "metadata": {},
   "outputs": [
    {
     "data": {
      "text/plain": [
       "['Honda Accord',\n",
       " 'Toyota Camry',\n",
       " 'Honda Civic',\n",
       " 'Toyota Corolla',\n",
       " 'Hyunday Elantra',\n",
       " 'Nissan Altima',\n",
       " 'Nissan Sentra']"
      ]
     },
     "execution_count": 11,
     "metadata": {},
     "output_type": "execute_result"
    }
   ],
   "source": [
    "cars_list.insert(5,'Nissan Altima')\n",
    "cars_list"
   ]
  },
  {
   "cell_type": "code",
   "execution_count": 12,
   "metadata": {},
   "outputs": [
    {
     "data": {
      "text/plain": [
       "['Honda Accord',\n",
       " 'Toyota Camry',\n",
       " 'Honda Civic',\n",
       " 'Toyota Corolla',\n",
       " 'Hyunday Elantra',\n",
       " 'Nissan Altima',\n",
       " 'Nissan Sentra',\n",
       " 'Kia Optima',\n",
       " 'Kia Soul']"
      ]
     },
     "execution_count": 12,
     "metadata": {},
     "output_type": "execute_result"
    }
   ],
   "source": [
    "cars_list.extend(['Kia Optima', 'Kia Soul'])\n",
    "cars_list"
   ]
  },
  {
   "cell_type": "code",
   "execution_count": 13,
   "metadata": {},
   "outputs": [
    {
     "data": {
      "text/plain": [
       "['Hennesy Venom GT', 'Bugatti Veryon', 'Koenigsegg Agera R']"
      ]
     },
     "execution_count": 13,
     "metadata": {},
     "output_type": "execute_result"
    }
   ],
   "source": [
    "cars_list2 = ['Hennesy Venom GT', 'Bugatti Veryon', 'Koenigsegg Agera R']\n",
    "cars_list2 "
   ]
  },
  {
   "cell_type": "code",
   "execution_count": 14,
   "metadata": {},
   "outputs": [
    {
     "data": {
      "text/plain": [
       "['Honda Accord',\n",
       " 'Toyota Camry',\n",
       " 'Honda Civic',\n",
       " 'Toyota Corolla',\n",
       " 'Hyunday Elantra',\n",
       " 'Nissan Altima',\n",
       " 'Nissan Sentra',\n",
       " 'Kia Optima',\n",
       " 'Kia Soul',\n",
       " 'Hennesy Venom GT',\n",
       " 'Bugatti Veryon',\n",
       " 'Koenigsegg Agera R']"
      ]
     },
     "execution_count": 14,
     "metadata": {},
     "output_type": "execute_result"
    }
   ],
   "source": [
    "complete_cars_list = cars_list + cars_list2\n",
    "complete_cars_list"
   ]
  },
  {
   "cell_type": "code",
   "execution_count": 15,
   "metadata": {},
   "outputs": [
    {
     "data": {
      "text/plain": [
       "['Honda Accord',\n",
       " 'Toyota Camry',\n",
       " 'Honda Civic',\n",
       " 'Toyota Corolla',\n",
       " 'Hyunday Elantra',\n",
       " 'Nissan Altima',\n",
       " 'Nissan Sentra',\n",
       " 'Kia Optima',\n",
       " 'Kia Soul']"
      ]
     },
     "execution_count": 15,
     "metadata": {},
     "output_type": "execute_result"
    }
   ],
   "source": [
    "cars_list"
   ]
  },
  {
   "cell_type": "code",
   "execution_count": 16,
   "metadata": {},
   "outputs": [
    {
     "data": {
      "text/plain": [
       "2"
      ]
     },
     "execution_count": 16,
     "metadata": {},
     "output_type": "execute_result"
    }
   ],
   "source": [
    "complete_cars_list.index('Honda Civic')"
   ]
  },
  {
   "cell_type": "code",
   "execution_count": 17,
   "metadata": {},
   "outputs": [
    {
     "ename": "ValueError",
     "evalue": "'honda civic' is not in list",
     "output_type": "error",
     "traceback": [
      "\u001b[1;31m---------------------------------------------------------------------------\u001b[0m",
      "\u001b[1;31mValueError\u001b[0m                                Traceback (most recent call last)",
      "\u001b[1;32m<ipython-input-17-cd1010812874>\u001b[0m in \u001b[0;36m<module>\u001b[1;34m\u001b[0m\n\u001b[1;32m----> 1\u001b[1;33m \u001b[0mcomplete_cars_list\u001b[0m\u001b[1;33m.\u001b[0m\u001b[0mindex\u001b[0m\u001b[1;33m(\u001b[0m\u001b[1;34m'honda civic'\u001b[0m\u001b[1;33m)\u001b[0m\u001b[1;33m\u001b[0m\u001b[1;33m\u001b[0m\u001b[0m\n\u001b[0m",
      "\u001b[1;31mValueError\u001b[0m: 'honda civic' is not in list"
     ]
    }
   ],
   "source": [
    "complete_cars_list.index('honda civic')"
   ]
  },
  {
   "cell_type": "code",
   "execution_count": 19,
   "metadata": {},
   "outputs": [
    {
     "ename": "ValueError",
     "evalue": "'Hyundai Elantra' is not in list",
     "output_type": "error",
     "traceback": [
      "\u001b[1;31m---------------------------------------------------------------------------\u001b[0m",
      "\u001b[1;31mValueError\u001b[0m                                Traceback (most recent call last)",
      "\u001b[1;32m<ipython-input-19-6fdc31c2bb40>\u001b[0m in \u001b[0;36m<module>\u001b[1;34m\u001b[0m\n\u001b[1;32m----> 1\u001b[1;33m \u001b[0mcomplete_cars_list\u001b[0m\u001b[1;33m.\u001b[0m\u001b[0mindex\u001b[0m\u001b[1;33m(\u001b[0m\u001b[1;34m'Hyundai Elantra'\u001b[0m\u001b[1;33m)\u001b[0m\u001b[1;33m\u001b[0m\u001b[1;33m\u001b[0m\u001b[0m\n\u001b[0m",
      "\u001b[1;31mValueError\u001b[0m: 'Hyundai Elantra' is not in list"
     ]
    }
   ],
   "source": [
    "complete_cars_list.index('Hyundai Elantra')"
   ]
  },
  {
   "cell_type": "code",
   "execution_count": 20,
   "metadata": {},
   "outputs": [
    {
     "data": {
      "text/plain": [
       "['Honda Accord',\n",
       " 'Honda Civic',\n",
       " 'Toyota Corolla',\n",
       " 'Hyunday Elantra',\n",
       " 'Nissan Altima',\n",
       " 'Nissan Sentra',\n",
       " 'Kia Optima',\n",
       " 'Kia Soul',\n",
       " 'Hennesy Venom GT',\n",
       " 'Bugatti Veryon',\n",
       " 'Koenigsegg Agera R']"
      ]
     },
     "execution_count": 20,
     "metadata": {},
     "output_type": "execute_result"
    }
   ],
   "source": [
    "complete_cars_list.remove('Toyota Camry')\n",
    "complete_cars_list"
   ]
  },
  {
   "cell_type": "code",
   "execution_count": 21,
   "metadata": {},
   "outputs": [
    {
     "ename": "ValueError",
     "evalue": "'Toyota Camry' is not in list",
     "output_type": "error",
     "traceback": [
      "\u001b[1;31m---------------------------------------------------------------------------\u001b[0m",
      "\u001b[1;31mValueError\u001b[0m                                Traceback (most recent call last)",
      "\u001b[1;32m<ipython-input-21-fd7ac2d65d9d>\u001b[0m in \u001b[0;36m<module>\u001b[1;34m\u001b[0m\n\u001b[1;32m----> 1\u001b[1;33m \u001b[0mcomplete_cars_list\u001b[0m\u001b[1;33m.\u001b[0m\u001b[0mindex\u001b[0m\u001b[1;33m(\u001b[0m\u001b[1;34m'Toyota Camry'\u001b[0m\u001b[1;33m)\u001b[0m\u001b[1;33m\u001b[0m\u001b[1;33m\u001b[0m\u001b[0m\n\u001b[0m",
      "\u001b[1;31mValueError\u001b[0m: 'Toyota Camry' is not in list"
     ]
    }
   ],
   "source": [
    "complete_cars_list.index('Toyota Camry')"
   ]
  },
  {
   "cell_type": "code",
   "execution_count": 22,
   "metadata": {},
   "outputs": [
    {
     "data": {
      "text/plain": [
       "['Honda Accord',\n",
       " 'Honda Civic',\n",
       " 'Toyota Corolla',\n",
       " 'Hyunday Elantra',\n",
       " 'Nissan Altima',\n",
       " 'Nissan Sentra',\n",
       " 'Kia Optima',\n",
       " 'Kia Soul',\n",
       " 'Hennesy Venom GT',\n",
       " 'Bugatti Veryon',\n",
       " 'Koenigsegg Agera R',\n",
       " 'Chevrolet Cruze',\n",
       " 'Chevrolet Mailbu']"
      ]
     },
     "execution_count": 22,
     "metadata": {},
     "output_type": "execute_result"
    }
   ],
   "source": [
    "complete_cars_list += ['Chevrolet Cruze', 'Chevrolet Mailbu']\n",
    "complete_cars_list"
   ]
  },
  {
   "cell_type": "code",
   "execution_count": 23,
   "metadata": {},
   "outputs": [
    {
     "data": {
      "text/plain": [
       "['Bugatti Veryon',\n",
       " 'Chevrolet Cruze',\n",
       " 'Chevrolet Mailbu',\n",
       " 'Hennesy Venom GT',\n",
       " 'Honda Accord',\n",
       " 'Honda Civic',\n",
       " 'Hyunday Elantra',\n",
       " 'Kia Optima',\n",
       " 'Kia Soul',\n",
       " 'Koenigsegg Agera R',\n",
       " 'Nissan Altima',\n",
       " 'Nissan Sentra',\n",
       " 'Toyota Corolla']"
      ]
     },
     "execution_count": 23,
     "metadata": {},
     "output_type": "execute_result"
    }
   ],
   "source": [
    "complete_cars_list.sort()\n",
    "complete_cars_list"
   ]
  },
  {
   "cell_type": "code",
   "execution_count": 25,
   "metadata": {},
   "outputs": [
    {
     "data": {
      "text/plain": [
       "['Toyota Corolla',\n",
       " 'Nissan Sentra',\n",
       " 'Nissan Altima',\n",
       " 'Koenigsegg Agera R',\n",
       " 'Kia Soul',\n",
       " 'Kia Optima',\n",
       " 'Hyunday Elantra',\n",
       " 'Honda Civic',\n",
       " 'Honda Accord',\n",
       " 'Hennesy Venom GT',\n",
       " 'Chevrolet Mailbu',\n",
       " 'Chevrolet Cruze',\n",
       " 'Bugatti Veryon']"
      ]
     },
     "execution_count": 25,
     "metadata": {},
     "output_type": "execute_result"
    }
   ],
   "source": [
    "complete_cars_list.reverse()\n",
    "complete_cars_list"
   ]
  },
  {
   "cell_type": "code",
   "execution_count": 26,
   "metadata": {},
   "outputs": [
    {
     "data": {
      "text/plain": [
       "['Toyota Corolla',\n",
       " 'Nissan Sentra',\n",
       " 'Nissan Altima',\n",
       " 'Koenigsegg Agera R',\n",
       " 'Kia Soul',\n",
       " 'Kia Optima',\n",
       " 'Hyunday Elantra',\n",
       " 'Honda Civic',\n",
       " 'Honda Accord',\n",
       " 'Hennesy Venom GT',\n",
       " 'Chevrolet Mailbu',\n",
       " 'Chevrolet Cruze']"
      ]
     },
     "execution_count": 26,
     "metadata": {},
     "output_type": "execute_result"
    }
   ],
   "source": [
    "complete_cars_list.pop()\n",
    "complete_cars_list"
   ]
  },
  {
   "cell_type": "code",
   "execution_count": 28,
   "metadata": {},
   "outputs": [
    {
     "data": {
      "text/plain": [
       "['Toyota Corolla',\n",
       " 'Nissan Sentra',\n",
       " 'Nissan Altima',\n",
       " 'Koenigsegg Agera R',\n",
       " 'Kia Soul',\n",
       " 'Kia Optima',\n",
       " 'Hyunday Elantra',\n",
       " 'Honda Civic',\n",
       " 'Honda Accord',\n",
       " 'Hennesy Venom GT']"
      ]
     },
     "execution_count": 28,
     "metadata": {},
     "output_type": "execute_result"
    }
   ],
   "source": [
    "complete_cars_list.pop()\n",
    "complete_cars_list"
   ]
  },
  {
   "cell_type": "code",
   "execution_count": 29,
   "metadata": {},
   "outputs": [
    {
     "data": {
      "text/plain": [
       "['Toyota Corolla',\n",
       " 'Nissan Sentra',\n",
       " 'Nissan Altima',\n",
       " 'Koenigsegg Agera R',\n",
       " 'Kia Soul',\n",
       " 'Kia Optima',\n",
       " 'Hyunday Elantra',\n",
       " 'Honda Civic',\n",
       " 'Honda Accord',\n",
       " 'Hennesy Venom GT',\n",
       " 'Nissan Altima']"
      ]
     },
     "execution_count": 29,
     "metadata": {},
     "output_type": "execute_result"
    }
   ],
   "source": [
    "complete_cars_list.append('Nissan Altima')\n",
    "complete_cars_list"
   ]
  },
  {
   "cell_type": "code",
   "execution_count": 30,
   "metadata": {},
   "outputs": [
    {
     "data": {
      "text/plain": [
       "0"
      ]
     },
     "execution_count": 30,
     "metadata": {},
     "output_type": "execute_result"
    }
   ],
   "source": [
    "complete_cars_list.count('honda Civic')"
   ]
  },
  {
   "cell_type": "code",
   "execution_count": 31,
   "metadata": {},
   "outputs": [
    {
     "data": {
      "text/plain": [
       "1"
      ]
     },
     "execution_count": 31,
     "metadata": {},
     "output_type": "execute_result"
    }
   ],
   "source": [
    "complete_cars_list.count('Honda Civic')"
   ]
  },
  {
   "cell_type": "code",
   "execution_count": 32,
   "metadata": {},
   "outputs": [
    {
     "data": {
      "text/plain": [
       "2"
      ]
     },
     "execution_count": 32,
     "metadata": {},
     "output_type": "execute_result"
    }
   ],
   "source": [
    "complete_cars_list.count('Nissan Altima')"
   ]
  },
  {
   "cell_type": "code",
   "execution_count": 33,
   "metadata": {},
   "outputs": [
    {
     "data": {
      "text/plain": [
       "{'_', 'a', 'c', 'e', 'i', 'l', 'm', 'o', 'p', 'r', 's', 't'}"
      ]
     },
     "execution_count": 33,
     "metadata": {},
     "output_type": "execute_result"
    }
   ],
   "source": [
    "set('complete_cars_list')"
   ]
  },
  {
   "cell_type": "code",
   "execution_count": 34,
   "metadata": {},
   "outputs": [
    {
     "data": {
      "text/plain": [
       "{'Hennesy Venom GT',\n",
       " 'Honda Accord',\n",
       " 'Honda Civic',\n",
       " 'Hyunday Elantra',\n",
       " 'Kia Optima',\n",
       " 'Kia Soul',\n",
       " 'Koenigsegg Agera R',\n",
       " 'Nissan Altima',\n",
       " 'Nissan Sentra',\n",
       " 'Toyota Corolla'}"
      ]
     },
     "execution_count": 34,
     "metadata": {},
     "output_type": "execute_result"
    }
   ],
   "source": [
    "set(complete_cars_list)"
   ]
  },
  {
   "cell_type": "code",
   "execution_count": 35,
   "metadata": {},
   "outputs": [
    {
     "name": "stdout",
     "output_type": "stream",
     "text": [
      "['Honda Accord', 'Toyota Camry', 'Honda Civic', 'Toyota Corolla', 'Hyunday Elantra', 'Nissan Altima', 'Nissan Sentra', 'Kia Optima', 'Kia Soul']\n"
     ]
    }
   ],
   "source": [
    "print(cars_list)"
   ]
  },
  {
   "cell_type": "code",
   "execution_count": 36,
   "metadata": {},
   "outputs": [],
   "source": [
    "cars_list.clear()"
   ]
  },
  {
   "cell_type": "code",
   "execution_count": 37,
   "metadata": {},
   "outputs": [
    {
     "data": {
      "text/plain": [
       "[]"
      ]
     },
     "execution_count": 37,
     "metadata": {},
     "output_type": "execute_result"
    }
   ],
   "source": [
    "cars_list"
   ]
  },
  {
   "cell_type": "code",
   "execution_count": 38,
   "metadata": {},
   "outputs": [
    {
     "data": {
      "text/plain": [
       "['Toyota Corolla',\n",
       " 'Nissan Sentra',\n",
       " 'Nissan Altima',\n",
       " 'Koenigsegg Agera R',\n",
       " 'Kia Soul',\n",
       " 'Kia Optima',\n",
       " 'Hyunday Elantra',\n",
       " 'Honda Civic',\n",
       " 'Honda Accord',\n",
       " 'Hennesy Venom GT',\n",
       " 'Nissan Altima']"
      ]
     },
     "execution_count": 38,
     "metadata": {},
     "output_type": "execute_result"
    }
   ],
   "source": [
    "complete_cars_list"
   ]
  },
  {
   "cell_type": "code",
   "execution_count": 39,
   "metadata": {},
   "outputs": [
    {
     "data": {
      "text/plain": [
       "<function list.copy()>"
      ]
     },
     "execution_count": 39,
     "metadata": {},
     "output_type": "execute_result"
    }
   ],
   "source": [
    "complete_cars_list.copy"
   ]
  },
  {
   "cell_type": "code",
   "execution_count": 41,
   "metadata": {},
   "outputs": [],
   "source": [
    "new_cars = complete_cars_list.copy()"
   ]
  },
  {
   "cell_type": "code",
   "execution_count": 42,
   "metadata": {},
   "outputs": [],
   "source": [
    "del complete_cars_list"
   ]
  },
  {
   "cell_type": "code",
   "execution_count": 43,
   "metadata": {},
   "outputs": [
    {
     "data": {
      "text/plain": [
       "['Toyota Corolla',\n",
       " 'Nissan Sentra',\n",
       " 'Nissan Altima',\n",
       " 'Koenigsegg Agera R',\n",
       " 'Kia Soul',\n",
       " 'Kia Optima',\n",
       " 'Hyunday Elantra',\n",
       " 'Honda Civic',\n",
       " 'Honda Accord',\n",
       " 'Hennesy Venom GT',\n",
       " 'Nissan Altima']"
      ]
     },
     "execution_count": 43,
     "metadata": {},
     "output_type": "execute_result"
    }
   ],
   "source": [
    "new_cars"
   ]
  },
  {
   "cell_type": "code",
   "execution_count": 44,
   "metadata": {},
   "outputs": [
    {
     "data": {
      "text/plain": [
       "['Toyota Corolla',\n",
       " 'Nissan Sentra',\n",
       " 'Nissan Altima',\n",
       " 'Koenigsegg Agera R',\n",
       " 'Kia Soul',\n",
       " 'Kia Optima',\n",
       " 'Hyunday Elantra',\n",
       " 'Honda Civic',\n",
       " 'Honda Accord',\n",
       " 'Hennesy Venom GT',\n",
       " 'Nissan Altima']"
      ]
     },
     "execution_count": 44,
     "metadata": {},
     "output_type": "execute_result"
    }
   ],
   "source": [
    "new_cars #deep copy"
   ]
  },
  {
   "cell_type": "code",
   "execution_count": 45,
   "metadata": {},
   "outputs": [
    {
     "data": {
      "text/plain": [
       "['Toyota Corolla',\n",
       " 'Nissan Sentra',\n",
       " 'Nissan Altima',\n",
       " 'Koenigsegg Agera R',\n",
       " 'Kia Soul',\n",
       " 'Kia Optima',\n",
       " 'Hyunday Elantra',\n",
       " 'Honda Civic',\n",
       " 'Honda Accord',\n",
       " 'Hennesy Venom GT',\n",
       " 'Nissan Altima']"
      ]
     },
     "execution_count": 45,
     "metadata": {},
     "output_type": "execute_result"
    }
   ],
   "source": [
    "another_cars_list = new_cars\n",
    "another_cars_list #shallow copy"
   ]
  },
  {
   "cell_type": "code",
   "execution_count": 46,
   "metadata": {},
   "outputs": [
    {
     "data": {
      "text/plain": [
       "['Toyota Corolla',\n",
       " 'Nissan Sentra',\n",
       " 'Nissan Altima',\n",
       " 'Koenigsegg Agera R',\n",
       " 'Kia Soul',\n",
       " 'Kia Optima',\n",
       " 'Hyunday Elantra',\n",
       " 'Honda Civic',\n",
       " 'Honda Accord',\n",
       " 'Nissan Altima']"
      ]
     },
     "execution_count": 46,
     "metadata": {},
     "output_type": "execute_result"
    }
   ],
   "source": [
    "another_cars_list.remove('Hennesy Venom GT')\n",
    "another_cars_list #gone bc it references the same as the main variable"
   ]
  },
  {
   "cell_type": "code",
   "execution_count": 47,
   "metadata": {},
   "outputs": [
    {
     "data": {
      "text/plain": [
       "['Toyota Corolla',\n",
       " 'Nissan Sentra',\n",
       " 'Nissan Altima',\n",
       " 'Koenigsegg Agera R',\n",
       " 'Kia Soul',\n",
       " 'Kia Optima',\n",
       " 'Hyunday Elantra',\n",
       " 'Honda Civic',\n",
       " 'Honda Accord',\n",
       " 'Nissan Altima']"
      ]
     },
     "execution_count": 47,
     "metadata": {},
     "output_type": "execute_result"
    }
   ],
   "source": [
    "another_cars_list#gone bc it's a shallow copy"
   ]
  },
  {
   "cell_type": "code",
   "execution_count": 49,
   "metadata": {},
   "outputs": [
    {
     "data": {
      "text/plain": [
       "['Toyota Corolla',\n",
       " 'Nissan Sentra',\n",
       " 'Nissan Altima',\n",
       " 'Koenigsegg Agera R',\n",
       " 'Kia Soul',\n",
       " 'Kia Optima',\n",
       " 'Hyunday Elantra',\n",
       " 'Honda Civic',\n",
       " 'Honda Accord',\n",
       " 'Nissan Altima']"
      ]
     },
     "execution_count": 49,
     "metadata": {},
     "output_type": "execute_result"
    }
   ],
   "source": [
    "new_cars #gone bc it's referencing the same "
   ]
  },
  {
   "cell_type": "code",
   "execution_count": 50,
   "metadata": {},
   "outputs": [
    {
     "data": {
      "text/plain": [
       "['Toyota Corolla',\n",
       " 'Nissan Altima',\n",
       " 'Koenigsegg Agera R',\n",
       " 'Kia Soul',\n",
       " 'Kia Optima',\n",
       " 'Hyunday Elantra',\n",
       " 'Honda Civic',\n",
       " 'Honda Accord',\n",
       " 'Nissan Altima']"
      ]
     },
     "execution_count": 50,
     "metadata": {},
     "output_type": "execute_result"
    }
   ],
   "source": [
    "new_cars.remove('Nissan Sentra')\n",
    "new_cars"
   ]
  },
  {
   "cell_type": "code",
   "execution_count": 51,
   "metadata": {},
   "outputs": [
    {
     "data": {
      "text/plain": [
       "['Toyota Corolla',\n",
       " 'Nissan Altima',\n",
       " 'Koenigsegg Agera R',\n",
       " 'Kia Soul',\n",
       " 'Kia Optima',\n",
       " 'Hyunday Elantra',\n",
       " 'Honda Civic',\n",
       " 'Honda Accord',\n",
       " 'Nissan Altima']"
      ]
     },
     "execution_count": 51,
     "metadata": {},
     "output_type": "execute_result"
    }
   ],
   "source": [
    "another_cars_list #gone since it's a shallow copy"
   ]
  },
  {
   "cell_type": "code",
   "execution_count": null,
   "metadata": {},
   "outputs": [],
   "source": []
  }
 ],
 "metadata": {
  "kernelspec": {
   "display_name": "Python 3",
   "language": "python",
   "name": "python3"
  },
  "language_info": {
   "codemirror_mode": {
    "name": "ipython",
    "version": 3
   },
   "file_extension": ".py",
   "mimetype": "text/x-python",
   "name": "python",
   "nbconvert_exporter": "python",
   "pygments_lexer": "ipython3",
   "version": "3.8.3"
  }
 },
 "nbformat": 4,
 "nbformat_minor": 4
}
